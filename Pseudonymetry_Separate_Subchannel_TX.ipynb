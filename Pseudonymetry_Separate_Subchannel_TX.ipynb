{
 "cells": [
  {
   "cell_type": "markdown",
   "id": "ecf70286",
   "metadata": {},
   "source": [
    "# Separate Channel Transmission of Pseudonum"
   ]
  },
  {
   "cell_type": "code",
   "execution_count": 24,
   "id": "51080edb",
   "metadata": {},
   "outputs": [],
   "source": [
    "import numpy as np\n",
    "import matplotlib.pyplot as plt\n",
    "from scipy import signal\n",
    "import statistics as stats"
   ]
  },
  {
   "cell_type": "code",
   "execution_count": 25,
   "id": "40f551ac",
   "metadata": {},
   "outputs": [],
   "source": [
    "'''\n",
    "Protocol parameters!!!\n",
    "'''\n",
    "samples = 6000 # number of data samples per pseudonym bit\n",
    "FFT = 64 # FFT size for extracting IQ sample in each subcarrier\n",
    "OFDM_size = 80 # OFDM symbol with cyclic prefix\n",
    "pseudonym_len = 4\n",
    "pream_length = 352\n",
    "pattern_sample = samples//10\n",
    "mess_length = samples*OFDM_size*pseudonym_len \n",
    "Frame_length = mess_length + pream_length"
   ]
  },
  {
   "cell_type": "code",
   "execution_count": 26,
   "id": "418d491d",
   "metadata": {},
   "outputs": [],
   "source": [
    "pseudonym_packet = np.zeros((pseudonym_len,1)) ## Transmitted pseudonym bit sequence\n",
    "for i in range(pseudonym_len):\n",
    "    if i%2 == 0:\n",
    "        pseudonym_packet[i] = 1"
   ]
  },
  {
   "cell_type": "code",
   "execution_count": 27,
   "id": "1ebcb65d",
   "metadata": {},
   "outputs": [],
   "source": [
    "dataCarriers = np.array([-26,-25,-24,-23,-22,-21,-20,-19,-18,-17,-16,-15,-14,-13,-12,-11,-10,-9,-8,-7,-6,\n",
    "                    -5,-4,-3,-2,-1,0,1,2,3,4,5,6,7,8,9,10,11,12,13,14,15,16,17,18,19,20,21,22,23,24,25])\n",
    "\n",
    "pseudonymChannel2 = np.array([16])\n",
    "\n",
    "guardCarriers = np.array([-32,-31,-30,-29,-28,-27,26,27,28,29,30,31])\n",
    "\n",
    "p_bit0_pattern = np.array([0,1,0,1,0,1,0,1,0,1])\n",
    "p_bit1_pattern = np.array([1,0,1,0,1,0,1,0,1,0])\n",
    "\n",
    "pseudo_channels = np.array([43,44,45,46,47,48,49,50,51,52])"
   ]
  },
  {
   "cell_type": "code",
   "execution_count": 28,
   "id": "97283a12",
   "metadata": {},
   "outputs": [],
   "source": [
    "def OFDM_TX(message_len):\n",
    "    CP = 16  # 25% Cyclic Prefix \n",
    "    M = 2 # bits per symbol (i.e. QPSK)\n",
    "    mod_index = 1.0\n",
    "    bits = np.random.binomial(n=1, p=0.5, size=(message_len,))\n",
    " \n",
    "    for i in range(len(bits)//(2*FFT)):\n",
    "        \n",
    "        data_bits = bits[i*2*FFT:(i+1)*2*FFT]\n",
    "\n",
    "        # Convert serial data to parallel\n",
    "        def Serial_to_Parallel(x):\n",
    "            return x.reshape((FFT, M))\n",
    "        parallel_bits = Serial_to_Parallel(data_bits)\n",
    "\n",
    "        # mapping table\n",
    "        ## maps data_bits into complex value IQ samples\n",
    "        mapping_table = {\n",
    "            (0,0) : 1.4142 + 1.4142j,\n",
    "            (0,1) : -1.4142 + 1.4142j,\n",
    "            (1,0) : 1.4142 - 1.4142j,\n",
    "            (1,1) : -1.4142 - 1.4142j\n",
    "        }\n",
    "\n",
    "        # mapping\n",
    "        def Mapping(x):\n",
    "            return np.array([mapping_table[tuple(b)] for b in x])\n",
    "        \n",
    "        QPSK = Mapping(parallel_bits)\n",
    "#         print('Length of QSPS',len(QPSK))\n",
    "        # OFDM symbol generation\n",
    "        def OFDM_symbol_gen(x):\n",
    "            pilot_value = np.array([1.4142 + 1.4142j, -1.4142 - 1.4142j, 1.4142 + 1.4142j, -1.4142 - 1.4142j])\n",
    "            guard_value = np.array([0+0j, 0+0j, 0+0j, 0+0j, 0+0j, 0+0j, 0+0j, 0+0j, 0+0j, 0+0j, 0+0j, 0+0j])\n",
    "            \n",
    "            symbol = np.zeros(FFT, dtype=np.complex64)\n",
    "            symbol[dataCarriers] = QPSK[dataCarriers]\n",
    "            #symbol[pilotCarriers] = pilot_value\n",
    "            symbol[guardCarriers] = guard_value\n",
    "            return symbol\n",
    "        \n",
    "        OFDM_symbol = OFDM_symbol_gen(QPSK)\n",
    "\n",
    "        # Pseudonym Embedding Scheme\n",
    "        # Embeds the pseudonyms on to the subcarriers\n",
    "        \n",
    "        def Pseudonym_Embedding(x):\n",
    "            if i < len(bits)//(4*FFT):\n",
    "                      \n",
    "                if (i//pattern_sample)%2 == 0: \n",
    "#                      \n",
    "                    x[pseudonymChannel2] = x[pseudonymChannel2]*(1+mod_index) \n",
    "                else:\n",
    "#                    \n",
    "                    x[pseudonymChannel2] = x[pseudonymChannel2]*(1-mod_index) \n",
    "            else:\n",
    "                if (i//pattern_sample)%2 == 0:\n",
    "#                     \n",
    "                    x[pseudonymChannel2] = x[pseudonymChannel2]*(1-mod_index) \n",
    "                else:\n",
    "#                     \n",
    "                    x[pseudonymChannel2] = x[pseudonymChannel2]*(1+mod_index)\n",
    "            return x\n",
    "        \n",
    "        modulated_OFDM = Pseudonym_Embedding(OFDM_symbol)\n",
    "        \n",
    "        # Generate time domain signal\n",
    "        def IDFT(x, n=64):\n",
    "            return np.fft.ifft(x,n)\n",
    "        \n",
    "        OFDM_time = IDFT(modulated_OFDM)\n",
    "\n",
    "        # adding cyclic prefix\n",
    "        def addCP(x):\n",
    "            cp = x[-CP:]              \n",
    "            return np.hstack([cp, x]) \n",
    "        OFDM_withCP = 3*addCP(OFDM_time)\n",
    "        if i == 0:\n",
    "            OFDM_swap = OFDM_withCP\n",
    "        else:\n",
    "            OFDM_signal = np.hstack([OFDM_swap, OFDM_withCP])\n",
    "            OFDM_swap = OFDM_signal\n",
    "#         print('Length of waveform:',len(OFDM_swap))\n",
    "    return OFDM_signal"
   ]
  },
  {
   "cell_type": "code",
   "execution_count": 29,
   "id": "a3fe2a6f",
   "metadata": {},
   "outputs": [],
   "source": [
    "'''Generate pseudonym packet'''\n",
    "def Generate_pseudonym_packet(num_pbits):   \n",
    "    for i in range(num_pbits):\n",
    "        OFDM_samples = OFDM_TX(4*FFT*samples)\n",
    "        if i ==0:\n",
    "            OFDM_swap = OFDM_samples\n",
    "        else:\n",
    "            OFDM_signal = np.hstack([OFDM_swap, OFDM_samples])\n",
    "            OFDM_swap = OFDM_signal\n",
    "    return OFDM_signal"
   ]
  },
  {
   "cell_type": "code",
   "execution_count": 30,
   "id": "c00fb495",
   "metadata": {
    "scrolled": true
   },
   "outputs": [
    {
     "data": {
      "image/png": "[encoded data removed]",
      "text/plain": [
       "<Figure size 432x288 with 1 Axes>"
      ]
     },
     "metadata": {
      "needs_background": "light"
     },
     "output_type": "display_data"
    },
    {
     "name": "stdout",
     "output_type": "stream",
     "text": [
      "480000.0\n"
     ]
    }
   ],
   "source": [
    "OFDM_samples = OFDM_TX(4*FFT*samples)\n",
    "# OFDM_samples = OFDM_TX(1536000)\n",
    "#np.save('OFDM_signal_save',OFDM_samples)\n",
    "plt.plot(abs(OFDM_samples))\n",
    "plt.ylabel(\"Magnitude\")\n",
    "plt.xlabel(\"Samples\")\n",
    "plt.show()\n",
    "print(len(OFDM_samples)/2)"
   ]
  },
  {
   "cell_type": "code",
   "execution_count": null,
   "id": "92aed467",
   "metadata": {},
   "outputs": [],
   "source": [
    "# Compute the peak to average ratio for the OFDM subchannels.\n",
    "def Peak2Average_Ratio(x)\n",
    "    "
   ]
  },
  {
   "cell_type": "code",
   "execution_count": 31,
   "id": "ea590a08",
   "metadata": {},
   "outputs": [
    {
     "data": {
      "image/png": "[encoded data removed]",
      "text/plain": [
       "<Figure size 432x288 with 1 Axes>"
      ]
     },
     "metadata": {
      "needs_background": "light"
     },
     "output_type": "display_data"
    }
   ],
   "source": [
    "plt.psd(OFDM_samples, Fs = 2e6)#, Fc = 3655e6)\n",
    "#plt.savefig('Carrier_power.eps', bbox_inches='tight')\n",
    "plt.show()"
   ]
  },
  {
   "cell_type": "code",
   "execution_count": 32,
   "id": "af93e25d",
   "metadata": {},
   "outputs": [
    {
     "data": {
      "text/plain": [
       "1920000"
      ]
     },
     "execution_count": 32,
     "metadata": {},
     "output_type": "execute_result"
    }
   ],
   "source": [
    "OFDM_waveform = Generate_pseudonym_packet(pseudonym_len//2)\n",
    "len(OFDM_waveform)"
   ]
  },
  {
   "cell_type": "code",
   "execution_count": 33,
   "id": "08b632ea",
   "metadata": {},
   "outputs": [
    {
     "data": {
      "image/png": "[encoded data removed]",
      "text/plain": [
       "<Figure size 432x288 with 1 Axes>"
      ]
     },
     "metadata": {
      "needs_background": "light"
     },
     "output_type": "display_data"
    }
   ],
   "source": [
    "# OFDM_samples = OFDM_TX(1536000)\n",
    "#np.save('OFDM_signal_save',OFDM_samples)\n",
    "plt.plot(abs(OFDM_waveform))\n",
    "plt.ylabel(\"Magnitude\")\n",
    "plt.xlabel(\"Samples\")\n",
    "plt.show()"
   ]
  },
  {
   "cell_type": "code",
   "execution_count": 34,
   "id": "0a858380",
   "metadata": {
    "scrolled": true
   },
   "outputs": [
    {
     "data": {
      "image/png": "[encoded data removed]",
      "text/plain": [
       "<Figure size 432x288 with 1 Axes>"
      ]
     },
     "metadata": {
      "needs_background": "light"
     },
     "output_type": "display_data"
    }
   ],
   "source": [
    "plt.psd(OFDM_waveform, Fs = 2e6)#, Fc = 3655e6)\n",
    "plt.savefig('Carrier_power.eps', bbox_inches='tight')\n",
    "plt.show()"
   ]
  },
  {
   "cell_type": "markdown",
   "id": "d6bba6a2",
   "metadata": {},
   "source": [
    "# Add preamble for synch"
   ]
  },
  {
   "cell_type": "code",
   "execution_count": 35,
   "id": "1a88301c",
   "metadata": {},
   "outputs": [],
   "source": [
    "# PURPOSE: Convert binary data to M-ary by making groups of log2(M)\n",
    "#          bits and converting each bit to one M-ary digit.\n",
    "# INPUT: Binary digit vector, with length as a multiple of log2(M)\n",
    "# OUTPUT: M-ary digit vector\n",
    "def binary2mary(data, M):\n",
    "\n",
    "    log2M   = round(np.log2(M))\n",
    "    # integer number of bits per group\n",
    "    if (len(data) % log2M) != 0:\n",
    "        print('Input to binary2mary must be divisible by log2(m).')\n",
    "    data.shape = (len(data)//log2M, log2M)\n",
    "    binaryValuesArray = 2**np.arange(log2M)\n",
    "    marydata = data.dot(binaryValuesArray)\n",
    "    return marydata"
   ]
  },
  {
   "cell_type": "code",
   "execution_count": 36,
   "id": "3cda1836",
   "metadata": {},
   "outputs": [],
   "source": [
    "# PURPOSE: convert input data stream to signal space values for\n",
    "#          a particular modulation type (as specified by the inputVec\n",
    "#          and outputVec).\n",
    "# INPUT: data (groups of bits)\n",
    "# OUTPUT: signal space values\n",
    "def lut(data, inputVec, outputVec):\n",
    "    if len(inputVec) != len(outputVec):\n",
    "        print('Input and Output vectors must have identical length')\n",
    "    # Initialize output\n",
    "    output = np.zeros(data.shape)\n",
    "    # For each possible data value\n",
    "    eps = np.finfo('float').eps\n",
    "    for i in range(len(inputVec)):\n",
    "        # Find the indices where data is equal to that input value\n",
    "        for k in range(len(data)):\n",
    "            if abs(data[k]-inputVec[i]) < eps:\n",
    "                # Set those indices in the output to be the appropriate output value.\n",
    "                output[k] = outputVec[i]\n",
    "    return output"
   ]
  },
  {
   "cell_type": "code",
   "execution_count": 37,
   "id": "0fef3de4",
   "metadata": {},
   "outputs": [],
   "source": [
    "# PURPOSE: insert 0's between samples to oversample at OS_Rate\n",
    "# INPUT: x (data), OS_Rate (how frequently data occurs)\n",
    "# OUTPUT: x_s (oversampled data)\n",
    "def oversample(x, OS_Rate):\n",
    "    # Initialize output\n",
    "    length = len(x[0])\n",
    "    x_s = np.zeros((1,length*OS_Rate))\n",
    "    # Fill in one out of every OS_Rate samples with the input values\n",
    "    count = 0\n",
    "    h = 0\n",
    "    for k in range(len(x_s[0])):\n",
    "        count = count + 1\n",
    "        if count == OS_Rate:\n",
    "            x_s[0][k] = x[0][h]\n",
    "            count = 0\n",
    "            h = h + 1\n",
    "    return x_s"
   ]
  },
  {
   "cell_type": "code",
   "execution_count": 38,
   "id": "b06e4c73",
   "metadata": {},
   "outputs": [],
   "source": [
    "# PURPOSE: create a square root raised cosine pulse shape\n",
    "# INPUT: alpha, N, Lp\n",
    "# OUTPUT: pulse wave array for srrc\n",
    "def SRRC(alpha, N, Lp):\n",
    "    # Add epsilon to the n values to avoid numerical problems\n",
    "    n = np.arange(-N*Lp+ (1e-9), N*Lp+1)\n",
    "    h = np.zeros(len(n))\n",
    "    coeff = 1/np.sqrt(N)\n",
    "    for i, each in enumerate(n):\n",
    "        sine_term = np.sin(np.pi * each * (1-alpha) / N)\n",
    "        cosine_term = np.cos(np.pi * each * (1+alpha) / N)\n",
    "        cosine_coeff = 4 * alpha * each / N\n",
    "        numerator = sine_term + (cosine_coeff * cosine_term)\n",
    "        denom_coeff = np.pi * each / N\n",
    "        denom_part = 1 - cosine_coeff**2\n",
    "        denominator = denom_coeff * denom_part\n",
    "        h[i] = coeff * numerator / denominator\n",
    "    return h"
   ]
  },
  {
   "cell_type": "code",
   "execution_count": 39,
   "id": "5116aa5c",
   "metadata": {},
   "outputs": [],
   "source": [
    "# PURPOSE: create a modulated signal with the defined preamble\n",
    "# INPUT: A (sqrt value for modulation), N, alpha, Lp (for srrc)\n",
    "# OUTPUT: modulated preamble signal & srrc pulse\n",
    "def createPreambleSignal(A, N, alpha, Lp):\n",
    "\n",
    "    # We defined the preamble as this repeating bit signal:\n",
    "    preamble     = np.tile([1, 1, 0, 0], 16)\n",
    "\n",
    "    ###########################################\n",
    "    ### Signal Generation\n",
    "    ### INPUT: binary data\n",
    "    ### OUTPUT: 4-ary data (0..3) values\n",
    "    data = binary2mary(preamble, 4)\n",
    "\n",
    "    ###########################################\n",
    "    ### Modulation\n",
    "    ### INPUT: data\n",
    "    ### OUTPUT: modulated values, x\n",
    "    inputVec   = [0, 1, 2, 3]\n",
    "    outputVecI = [A, -A, A, -A]\n",
    "    outputVecQ = [A, A, -A, -A]\n",
    "    xI         = lut(data, inputVec, outputVecI)\n",
    "    xQ         = lut(data, inputVec, outputVecQ)\n",
    "    xI = xI.reshape((1,len(data)))\n",
    "    xQ = xQ.reshape((1,len(data)))\n",
    "    ###########################################\n",
    "    ### Upsample\n",
    "    ### INPUT: modulated values, x\n",
    "    ### OUTPUT: modulated values at sampling rate, x_s\n",
    "    x_s_I = oversample(xI, N)\n",
    "    x_s_Q = oversample(xQ, N)\n",
    "\n",
    "    ###########################################\n",
    "    ### Pulse-shape filter\n",
    "    ### INPUT: modulated values at sampling rate, x_s\n",
    "    ### OUTPUT: baseband transmit signal s\n",
    "\n",
    "    pulse = SRRC(alpha, N, Lp)\n",
    "    pulse = np.array(pulse)\n",
    "    pulse = np.reshape(pulse, pulse.size)\n",
    "    x_s_I = np.reshape(x_s_I, x_s_I.size)\n",
    "    x_s_Q = np.reshape(x_s_Q, x_s_Q.size)\n",
    "    s_0_I = np.convolve(x_s_I, pulse, mode='full')\n",
    "    s_0_Q = np.convolve(x_s_Q, pulse, mode='full')\n",
    "#     plt.figure()\n",
    "#     plt.plot(pulse,label='SRRC pulse shape')\n",
    "#     plt.legend()\n",
    "#     plt.show()\n",
    "    \n",
    "    preamb = s_0_I + 1j*s_0_Q\n",
    "    ## Add zero-padding at the beginning\n",
    "    ##preamb = np.insert(s,0,np.zeros(1024))\n",
    "    \n",
    "#     plt.figure()\n",
    "#     plt.plot(np.real(preamb),label='Real Signal')\n",
    "#     plt.plot(np.imag(preamb),label='Imag Signal')\n",
    "#     plt.grid('on')\n",
    "#     plt.legend()\n",
    "#     plt.show()\n",
    "    return preamb, pulse"
   ]
  },
  {
   "cell_type": "code",
   "execution_count": 40,
   "id": "f0a84ba9",
   "metadata": {
    "scrolled": true
   },
   "outputs": [
    {
     "name": "stdout",
     "output_type": "stream",
     "text": [
      "352\n"
     ]
    },
    {
     "data": {
      "text/plain": [
       "[<matplotlib.lines.Line2D at 0x7fdc893b5790>]"
      ]
     },
     "execution_count": 40,
     "metadata": {},
     "output_type": "execute_result"
    },
    {
     "data": {
      "image/png": "[encoded data removed]",
      "text/plain": [
       "<Figure size 432x288 with 1 Axes>"
      ]
     },
     "metadata": {
      "needs_background": "light"
     },
     "output_type": "display_data"
    }
   ],
   "source": [
    "A = np.sqrt(9/2)\n",
    "N = 8\n",
    "alpha = 0.5\n",
    "Lp = 6\n",
    "preambleSignal,pulse = createPreambleSignal(A, N, alpha, Lp)\n",
    "print(len(preambleSignal))\n",
    "plt.plot(abs(preambleSignal))"
   ]
  },
  {
   "cell_type": "markdown",
   "id": "28ace994",
   "metadata": {},
   "source": [
    "## Save preamble to file"
   ]
  },
  {
   "cell_type": "code",
   "execution_count": 41,
   "id": "b58304b6",
   "metadata": {},
   "outputs": [],
   "source": [
    "def write_data_to_file(data, filename):\n",
    "    \n",
    "    '''\n",
    "    Saves preamble to file for later use\n",
    "    '''\n",
    "\n",
    "    data.tofile(filename) "
   ]
  },
  {
   "cell_type": "code",
   "execution_count": 42,
   "id": "0f703d80",
   "metadata": {},
   "outputs": [],
   "source": [
    "# write_data_to_file(preambleSignal, 'Preamble')"
   ]
  },
  {
   "cell_type": "code",
   "execution_count": 43,
   "id": "d83ba13f",
   "metadata": {},
   "outputs": [],
   "source": [
    "def get_samps_from_file(filename): \n",
    "    '''\n",
    "    load samples from file\n",
    "    '''\n",
    "    samps = np.fromfile(filename)\n",
    "    return samps"
   ]
  },
  {
   "cell_type": "code",
   "execution_count": 44,
   "id": "cce721e6",
   "metadata": {},
   "outputs": [],
   "source": [
    "# preamb = get_samps_from_file('Preamble')\n",
    "# plt.plot(abs(preamb))"
   ]
  },
  {
   "cell_type": "code",
   "execution_count": 45,
   "id": "292f7817",
   "metadata": {},
   "outputs": [
    {
     "name": "stdout",
     "output_type": "stream",
     "text": [
      "1920352\n"
     ]
    }
   ],
   "source": [
    "# Concatenate preamble signal and message signal\n",
    "PAM_modulated_OFDM = np.concatenate((preambleSignal,OFDM_waveform))\n",
    "print(len(PAM_modulated_OFDM))"
   ]
  },
  {
   "cell_type": "code",
   "execution_count": 46,
   "id": "b871c883",
   "metadata": {},
   "outputs": [],
   "source": [
    "# PURPOSE: perform preamble synchronization\n",
    "#          Uses the (complex-valued) preamble signal. The cross-correlation \n",
    "#          of the preamble signal and the received signal (at the time\n",
    "#          when the preamble is received) should have highest magnitude\n",
    "#          at the index delay where the preamble approximately starts.  \n",
    "# INPUT:   rx0: received signal (with a frequency offset)\n",
    "#          preambleSignal: complex, known, transmitted preamble signal \n",
    "# OUTPUT:  lagIndex: the index of rx0 where the preamble signal has highest \n",
    "#              cross-correlation\n",
    "#\n",
    "def crossCorrelationMax(rx0, preambleSignal):\n",
    "\n",
    "    # Cross correlate with the preamble to find it in the noisy signal\n",
    "    lags      = signal.correlation_lags(len(rx0), len(preambleSignal), mode='valid')\n",
    "    xcorr_out = signal.correlate(rx0, preambleSignal, mode='valid')\n",
    "    xcorr_mag = np.abs(xcorr_out)\n",
    "    # Don't let it sync to the end of the packet.\n",
    "    packetLenSamples = 0\n",
    "    maxIndex = np.argmax(xcorr_mag[:len(xcorr_mag)-packetLenSamples])\n",
    "    lagIndex = lags[maxIndex]\n",
    "\n",
    "    print('Max crosscorrelation with preamble at lag ' + str(lagIndex))\n",
    "\n",
    "    # Plot the selected signal.\n",
    "    plt.figure()\n",
    "    fig, subfigs = plt.subplots(2,1)\n",
    "    subfigs[0].plot(np.real(rx0), label='Real RX Signal')\n",
    "    subfigs[0].plot(np.imag(rx0), label='Imag RX Signal')\n",
    "    scale_factor = np.mean(np.abs(rx0))/np.mean(np.abs(preambleSignal))\n",
    "    subfigs[0].plot(range(lagIndex, lagIndex + len(preambleSignal)), scale_factor*np.real(preambleSignal), label='Preamble')\n",
    "    #subfigs[0].legend()\n",
    "    subfigs[1].plot(lags, xcorr_mag, label='|X-Correlation|')\n",
    "    plt.xlabel('Sample Index', fontsize=14)\n",
    "    #plt.tight_layout()\n",
    "\n",
    "    return lagIndex"
   ]
  },
  {
   "cell_type": "code",
   "execution_count": 64,
   "id": "92e0c8f1",
   "metadata": {
    "scrolled": true
   },
   "outputs": [
    {
     "name": "stdout",
     "output_type": "stream",
     "text": [
      "Max crosscorrelation with preamble at lag 0\n"
     ]
    },
    {
     "data": {
      "text/plain": [
       "0"
      ]
     },
     "execution_count": 64,
     "metadata": {},
     "output_type": "execute_result"
    },
    {
     "data": {
      "text/plain": [
       "<Figure size 432x288 with 0 Axes>"
      ]
     },
     "metadata": {},
     "output_type": "display_data"
    },
    {
     "data": {
      "image/png": "[encoded data removed]",
      "text/plain": [
       "<Figure size 432x288 with 2 Axes>"
      ]
     },
     "metadata": {
      "needs_background": "light"
     },
     "output_type": "display_data"
    }
   ],
   "source": [
    "#crossCorrelationMax(preambleSignal,preambleSignal)"
   ]
  },
  {
   "cell_type": "markdown",
   "id": "f9c56623",
   "metadata": {},
   "source": [
    "## Add 1024 padded zeros at the beginning"
   ]
  },
  {
   "cell_type": "code",
   "execution_count": 48,
   "id": "f7e7a4c4",
   "metadata": {},
   "outputs": [
    {
     "name": "stdout",
     "output_type": "stream",
     "text": [
      "1921376\n"
     ]
    }
   ],
   "source": [
    "PAM_modulated_OFDM_Final = np.hstack([np.zeros(1024, dtype=type(PAM_modulated_OFDM[0])),PAM_modulated_OFDM])\n",
    "print(len(PAM_modulated_OFDM_Final))"
   ]
  },
  {
   "cell_type": "code",
   "execution_count": 49,
   "id": "1838a438",
   "metadata": {},
   "outputs": [
    {
     "data": {
      "image/png": "[encoded data removed]",
      "text/plain": [
       "<Figure size 432x288 with 1 Axes>"
      ]
     },
     "metadata": {
      "needs_background": "light"
     },
     "output_type": "display_data"
    }
   ],
   "source": [
    "plt.figure()\n",
    "plt.plot(np.real(PAM_modulated_OFDM_Final),label='Real Signal')\n",
    "plt.plot(np.imag(PAM_modulated_OFDM_Final),label='Imag Signal')\n",
    "plt.grid('on')\n",
    "#plt.legend()\n",
    "plt.show()"
   ]
  },
  {
   "cell_type": "code",
   "execution_count": 50,
   "id": "e0ac4968",
   "metadata": {},
   "outputs": [
    {
     "data": {
      "image/png": "[encoded data removed]",
      "text/plain": [
       "<Figure size 432x288 with 1 Axes>"
      ]
     },
     "metadata": {
      "needs_background": "light"
     },
     "output_type": "display_data"
    }
   ],
   "source": [
    "plt.plot(abs(PAM_modulated_OFDM_Final[:2000]))\n",
    "plt.ylabel(\"Magnitude\")\n",
    "plt.xlabel(\"Samples\")\n",
    "plt.show()"
   ]
  },
  {
   "cell_type": "markdown",
   "id": "45ae2003",
   "metadata": {},
   "source": [
    "# Generate iq data for transmission over GNU radio"
   ]
  },
  {
   "cell_type": "code",
   "execution_count": 51,
   "id": "604dab3d",
   "metadata": {},
   "outputs": [],
   "source": [
    "def write_complex_binary(data, filename):\n",
    "    '''\n",
    "    Open filename and write array to it as binary\n",
    "    Format is interleaved float IQ e.g. each I,Q should be 32-bit float \n",
    "    INPUT\n",
    "    ----\n",
    "    data:     data to be wrote into the file. format: (length, )\n",
    "    filename: file name\n",
    "    '''\n",
    "\n",
    "    re = np.real(data)\n",
    "    im = np.imag(data)\n",
    "    binary = np.zeros(len(data)*2, dtype=np.float32)\n",
    "    binary[::2] = re\n",
    "    binary[1::2] = im\n",
    "    binary.tofile(filename) "
   ]
  },
  {
   "cell_type": "code",
   "execution_count": 52,
   "id": "b6d50a8f",
   "metadata": {},
   "outputs": [],
   "source": [
    "#write_complex_binary(PAM_modulated_OFDM_Final, 'TX_pattern_one_channel_Feb27_2024.iq')"
   ]
  },
  {
   "cell_type": "markdown",
   "id": "34649ed1",
   "metadata": {},
   "source": [
    "# Separate Pseudonym subchannel Receiver Below"
   ]
  },
  {
   "cell_type": "code",
   "execution_count": 53,
   "id": "73a19c57",
   "metadata": {},
   "outputs": [],
   "source": [
    "## FFT for data of window size=64\n",
    "def DFT_data(x, n =64):\n",
    "    return np.fft.fft(x,n)"
   ]
  },
  {
   "cell_type": "code",
   "execution_count": 54,
   "id": "3be9ea23",
   "metadata": {},
   "outputs": [],
   "source": [
    "''' Calculates FFT to recover the frequency domain signal in subcarriers and stores them in a matrix '''\n",
    "\n",
    "def subchannel_data(x):\n",
    "    sort_data = np.zeros((FFT, len(x)//OFDM_size), dtype = np.complex64)\n",
    "    for i in range(len(x)//OFDM_size):\n",
    "        y = x[i*OFDM_size:(i+1)*OFDM_size]\n",
    "        sort_data[:,i] = np.fft.fftshift(DFT_data(y[0:FFT]))  \n",
    "    return sort_data"
   ]
  },
  {
   "cell_type": "code",
   "execution_count": 55,
   "id": "db071865",
   "metadata": {},
   "outputs": [],
   "source": [
    "## calculate the power in each pseudonym bit and store it in matrix\n",
    "def Cal_subch_power(x):\n",
    "    sub_power = np.zeros((FFT,1))\n",
    "    for i in range(FFT-1):\n",
    "        sub_power[i] = sum(abs(x[i,:])**2) \n",
    "    return sub_power"
   ]
  },
  {
   "cell_type": "code",
   "execution_count": 56,
   "id": "c0a16f01",
   "metadata": {},
   "outputs": [],
   "source": [
    "'''\n",
    "calculates the distance between two arrays.\n",
    "'''\n",
    "def Distance(X,Y):\n",
    "    count = 0\n",
    "    for i in range(len(X)):\n",
    "        if X[i]!= Y[i]:\n",
    "            count +=1\n",
    "    return count"
   ]
  },
  {
   "cell_type": "code",
   "execution_count": 57,
   "id": "e4538ed2",
   "metadata": {
    "scrolled": false
   },
   "outputs": [
    {
     "data": {
      "image/png": "[encoded data removed]",
      "text/plain": [
       "<Figure size 432x288 with 2 Axes>"
      ]
     },
     "metadata": {
      "needs_background": "light"
     },
     "output_type": "display_data"
    }
   ],
   "source": [
    "data1 = subchannel_data(OFDM_waveform[:2*OFDM_size*samples])\n",
    "power = Cal_subch_power(data1[:,1:samples])\n",
    "plt.subplot(1,2,1)\n",
    "plt.imshow(abs(power))\n",
    "power = Cal_subch_power(data1[:,samples:2*samples])\n",
    "plt.subplot(1,2,2)\n",
    "plt.imshow(abs(power))\n",
    "plt.show()"
   ]
  },
  {
   "cell_type": "code",
   "execution_count": 58,
   "id": "6ff938b7",
   "metadata": {},
   "outputs": [],
   "source": [
    "## Make p-bit decisions by comparing patterns on bit-0 and bit-1\n",
    "## the patterns are 1010101010 for p-bit 1 and 0101010101 for p-bit 0\n",
    "def Pseudonym_Detection(x):\n",
    "    p_bit = []\n",
    "    for i in range(pseudonym_len):\n",
    "        pbit_data = x[i*OFDM_size*samples:(i+1)*OFDM_size*samples] # slices samples into one p-bit data\n",
    "        \n",
    "        r_bit_pattern2 = []\n",
    "        power2 = []\n",
    "        for j in range(len(p_bit0_pattern)):\n",
    "            chip_data = pbit_data[j*OFDM_size*pattern_sample:(j+1)*OFDM_size*pattern_sample]\n",
    "            FFT_matrix = subchannel_data(chip_data)\n",
    "            subchannel_power = Cal_subch_power(FFT_matrix)\n",
    "            power2.append(subchannel_power[48,0])\n",
    "        \n",
    "#             index_max = np.argmax(subchannel_power)\n",
    "#             print(\"Index of max:\",index_max)\n",
    "    \n",
    "        for k in range(len(p_bit0_pattern)):\n",
    "            if power2[k] > np.mean(sorted(power2, reverse = False)[2:9]):\n",
    "                r_bit_pattern2.append(1)\n",
    "            else:\n",
    "                r_bit_pattern2.append(0)\n",
    "                \n",
    "    \n",
    "                \n",
    "        print(\"detected pattern:\",r_bit_pattern2)\n",
    "        plt.plot(power2)\n",
    "        plt.show()\n",
    "        d21 = Distance(r_bit_pattern2, p_bit1_pattern)\n",
    "        d20 = Distance(r_bit_pattern2, p_bit0_pattern)\n",
    "       \n",
    "        \n",
    "        if (d21) < (d20):\n",
    "            p_bit.append(1)\n",
    "        else:\n",
    "            p_bit.append(0)  \n",
    "    return np.array(p_bit)"
   ]
  },
  {
   "cell_type": "code",
   "execution_count": 59,
   "id": "4a556b3f",
   "metadata": {},
   "outputs": [],
   "source": [
    "## Make p-bit decisions by comparing patterns on bit-0 and bit-1\n",
    "## the patterns are 1010101010 for p-bit 1 and 0101010101 for p-bit 0\n",
    "def Pseudonym_Detection3(x):\n",
    "    p_bit = []\n",
    "    for i in range(pseudonym_len):\n",
    "        pbit_data = x[i*OFDM_size*samples:(i+1)*OFDM_size*samples] # slices samples into one p-bit data\n",
    "        \n",
    "        r_bit_pattern = []\n",
    "        power = []\n",
    "        for j in range(len(p_bit0_pattern)):\n",
    "            chip_data = pbit_data[j*OFDM_size*pattern_sample:(j+1)*OFDM_size*pattern_sample]\n",
    "            FFT_matrix = subchannel_data(chip_data)\n",
    "            subchannel_power = Cal_subch_power(FFT_matrix)\n",
    "            power.append(subchannel_power[48,0])\n",
    "            \n",
    "#             index_max = np.argmax(subchannel_power)\n",
    "#             print(\"Index of max:\",index_max)\n",
    "    \n",
    "        for k in range(len(p_bit0_pattern)-1):\n",
    "            if power[k] > power[k+1]:\n",
    "                r_bit_pattern.append(1)\n",
    "            else:\n",
    "                r_bit_pattern.append(0)\n",
    "                \n",
    "        if power[8] < power[9]:\n",
    "            r_bit_pattern.append(1)\n",
    "        else:\n",
    "            r_bit_pattern.append(0)\n",
    "\n",
    "                \n",
    "#        print(\"detected pattern:\",r_bit_pattern2)\n",
    "#         plt.plot(power2)\n",
    "#         plt.show()\n",
    "        d21 = Distance(p_bit1_pattern,r_bit_pattern)\n",
    "        d20 = Distance(p_bit0_pattern,r_bit_pattern)\n",
    "\n",
    "        if (d21) < (d20):\n",
    "            p_bit.append(1)\n",
    "        else:\n",
    "            p_bit.append(0)  \n",
    "    return np.array(p_bit)"
   ]
  },
  {
   "cell_type": "code",
   "execution_count": 60,
   "id": "f0eeb76c",
   "metadata": {},
   "outputs": [],
   "source": [
    "''' Calculates the pseudonym bit error by comparing the detected pseudonym bits \n",
    "to the transmitted pseudonym bits.\n",
    "'''\n",
    "def Pseudonym_BER(x):\n",
    "    preds = Pseudonym_Detection3(x)\n",
    "    p_bit_error = Distance(preds,pseudonym_packet)\n",
    "    return p_bit_error"
   ]
  },
  {
   "cell_type": "code",
   "execution_count": 61,
   "id": "cabb88a3",
   "metadata": {
    "scrolled": false
   },
   "outputs": [
    {
     "data": {
      "text/plain": [
       "0"
      ]
     },
     "execution_count": 61,
     "metadata": {},
     "output_type": "execute_result"
    }
   ],
   "source": [
    "Pseudonym_BER(OFDM_waveform)"
   ]
  },
  {
   "cell_type": "code",
   "execution_count": 62,
   "id": "3346168a",
   "metadata": {},
   "outputs": [],
   "source": [
    "lagindex = 10487165\n",
    "# Load data from file\n",
    "def readCom(file_path):\n",
    "    return np.fromfile(file_path, dtype=np.complex64)"
   ]
  },
  {
   "cell_type": "code",
   "execution_count": 63,
   "id": "0e0d62e7",
   "metadata": {},
   "outputs": [],
   "source": [
    "# Rx = readCom(\"Phantom_single_30dB\")\n",
    "# crossCorrelationMax(Rx[int(1e7):], preambleSignal)"
   ]
  }
 ],
 "metadata": {
  "kernelspec": {
   "display_name": "Python 3 (ipykernel)",
   "language": "python",
   "name": "python3"
  },
  "language_info": {
   "codemirror_mode": {
    "name": "ipython",
    "version": 3
   },
   "file_extension": ".py",
   "mimetype": "text/x-python",
   "name": "python",
   "nbconvert_exporter": "python",
   "pygments_lexer": "ipython3",
   "version": "3.9.7"
  }
 },
 "nbformat": 4,
 "nbformat_minor": 5
}
